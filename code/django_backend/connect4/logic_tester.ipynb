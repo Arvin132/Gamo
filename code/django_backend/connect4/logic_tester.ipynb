{
 "cells": [
  {
   "cell_type": "code",
   "execution_count": 1,
   "metadata": {},
   "outputs": [],
   "source": [
    "from gamelogic import Gamerunner_Match4, ZeroH_MiniMax_Match4, HumanMatch4Agent, RandomMatch4Agent, FirstMoveMatch4Agent, ThreeCountH_MiniMax_Match4\n"
   ]
  },
  {
   "cell_type": "markdown",
   "metadata": {},
   "source": [
    "## Showcase\n",
    "\n",
    "showing the result of bots playing with each other"
   ]
  },
  {
   "cell_type": "markdown",
   "metadata": {},
   "source": [
    "#### Random vs first move"
   ]
  },
  {
   "cell_type": "code",
   "execution_count": 3,
   "metadata": {},
   "outputs": [
    {
     "name": "stdout",
     "output_type": "stream",
     "text": [
      "[1, 2, 1, 1, 1, 1, 1, 1, 1, 1, 1, 1, 1, 1, 1, 1, 1, 1, 1, 1, 1, 1, 1, 1, 1, 1, 2, 1, 1, 2]\n",
      "Random win rate:  0.1\n",
      "First-Move win rate:  0.9\n"
     ]
    }
   ],
   "source": [
    "game_runner = Gamerunner_Match4(FirstMoveMatch4Agent(), RandomMatch4Agent())\n",
    "results = game_runner.run_multiple_games(30, verbose=False)\n",
    "print(results)\n",
    "print(\"Random win rate: \", results.count(2) / len(results))\n",
    "print(\"First-Move win rate: \", results.count(1) / len(results))"
   ]
  },
  {
   "cell_type": "markdown",
   "metadata": {},
   "source": [
    "#### Random vs Zero Heur MiniMax"
   ]
  },
  {
   "cell_type": "code",
   "execution_count": 4,
   "metadata": {},
   "outputs": [
    {
     "name": "stdout",
     "output_type": "stream",
     "text": [
      "[1, 1, 1, 1, 1, 1, 1, 1, 1, 1, 1, 1, 1, 1, 1, 1, 1, 1, 1, 1, 1, 1, 1, 1, 1, 1, 1, 1, 1, 2]\n",
      "ZeroH_MiniMax_Match4 win rate:  0.9666666666666667\n",
      "First-Move win rate:  0.03333333333333333\n"
     ]
    }
   ],
   "source": [
    "game_runner = Gamerunner_Match4(ZeroH_MiniMax_Match4(), RandomMatch4Agent())\n",
    "results = game_runner.run_multiple_games(30, verbose=False)\n",
    "print(results)\n",
    "print(\"ZeroH_MiniMax_Match4 win rate: \", results.count(1) / len(results))\n",
    "print(\"First-Move win rate: \", results.count(2) / len(results))"
   ]
  },
  {
   "cell_type": "markdown",
   "metadata": {},
   "source": [
    "#### Random vs Three count heur MiniMax"
   ]
  },
  {
   "cell_type": "code",
   "execution_count": 6,
   "metadata": {},
   "outputs": [
    {
     "name": "stdout",
     "output_type": "stream",
     "text": [
      "[1, 1, 2, 1, 2, 1, 1, 1, 1, 1, 1, 1, 1, 1, 1, 1, 1, 1, 1, 1, 1, 1, 1, 1, 1, 1, 1, 1, 1, 1]\n",
      "ThreeCountH_MiniMax_Match4 win rate:  0.9333333333333333\n",
      "First-Move win rate:  0.06666666666666667\n"
     ]
    }
   ],
   "source": [
    "game_runner = Gamerunner_Match4(ThreeCountH_MiniMax_Match4(), RandomMatch4Agent())\n",
    "results = game_runner.run_multiple_games(30, verbose=False)\n",
    "print(results)\n",
    "print(\"ThreeCountH_MiniMax_Match4 win rate: \", results.count(1) / len(results))\n",
    "print(\"First-Move win rate: \", results.count(2) / len(results))"
   ]
  },
  {
   "cell_type": "markdown",
   "metadata": {},
   "source": [
    "#### ThreeCountH_MiniMax_Match4 vs ZeroH_MiniMax_Match4"
   ]
  },
  {
   "cell_type": "code",
   "execution_count": 7,
   "metadata": {},
   "outputs": [
    {
     "name": "stdout",
     "output_type": "stream",
     "text": [
      "[1, 1, 1, 2, 1, 1, 2, 1, 1, 1, 1, 2, 1, 1, 1, 2, 1, 1, 1, 1, 2, 1, 1, 2, 1, 2, 1, 1, 1, 2]\n",
      "ThreeCountH_MiniMax_Match4 win rate:  0.7333333333333333\n",
      "ZeroH_MiniMax_Match4 win rate:  0.26666666666666666\n"
     ]
    }
   ],
   "source": [
    "game_runner = Gamerunner_Match4(ThreeCountH_MiniMax_Match4(), ZeroH_MiniMax_Match4())\n",
    "results = game_runner.run_multiple_games(30, verbose=False)\n",
    "print(results)\n",
    "print(\"ThreeCountH_MiniMax_Match4 win rate: \", results.count(1) / len(results))\n",
    "print(\"ZeroH_MiniMax_Match4 win rate: \", results.count(2) / len(results))"
   ]
  },
  {
   "cell_type": "markdown",
   "metadata": {},
   "source": [
    "#### ThreeCountH_MiniMax_Match4 depth 2 vs depth 4"
   ]
  },
  {
   "cell_type": "code",
   "execution_count": 1,
   "metadata": {},
   "outputs": [
    {
     "ename": "NameError",
     "evalue": "name 'Gamerunner_Match4' is not defined",
     "output_type": "error",
     "traceback": [
      "\u001b[0;31m---------------------------------------------------------------------------\u001b[0m",
      "\u001b[0;31mNameError\u001b[0m                                 Traceback (most recent call last)",
      "Cell \u001b[0;32mIn[1], line 1\u001b[0m\n\u001b[0;32m----> 1\u001b[0m game_runner \u001b[38;5;241m=\u001b[39m \u001b[43mGamerunner_Match4\u001b[49m(ThreeCountH_MiniMax_Match4(), ThreeCountH_MiniMax_Match4(max_depth\u001b[38;5;241m=\u001b[39m\u001b[38;5;241m4\u001b[39m))\n\u001b[1;32m      2\u001b[0m results \u001b[38;5;241m=\u001b[39m game_runner\u001b[38;5;241m.\u001b[39mrun_multiple_games(\u001b[38;5;241m5\u001b[39m, verbose\u001b[38;5;241m=\u001b[39m\u001b[38;5;28;01mFalse\u001b[39;00m)\n\u001b[1;32m      3\u001b[0m \u001b[38;5;28mprint\u001b[39m(results)\n",
      "\u001b[0;31mNameError\u001b[0m: name 'Gamerunner_Match4' is not defined"
     ]
    }
   ],
   "source": [
    "game_runner = Gamerunner_Match4(ThreeCountH_MiniMax_Match4(), ThreeCountH_MiniMax_Match4(max_depth=4))\n",
    "results = game_runner.run_multiple_games(5, verbose=False)\n",
    "print(results)\n",
    "print(\"ThreeCountH_MiniMax_Match4 depth = 2 win rate: \", results.count(1) / len(results))\n",
    "print(\"ThreeCountH_MiniMax_Match4 depth = 4 win rate: \", results.count(2) / len(results))"
   ]
  },
  {
   "cell_type": "code",
   "execution_count": null,
   "metadata": {},
   "outputs": [],
   "source": [
    "  "
   ]
  }
 ],
 "metadata": {
  "kernelspec": {
   "display_name": "my_env",
   "language": "python",
   "name": "python3"
  },
  "language_info": {
   "codemirror_mode": {
    "name": "ipython",
    "version": 3
   },
   "file_extension": ".py",
   "mimetype": "text/x-python",
   "name": "python",
   "nbconvert_exporter": "python",
   "pygments_lexer": "ipython3",
   "version": "3.10.12"
  }
 },
 "nbformat": 4,
 "nbformat_minor": 2
}
